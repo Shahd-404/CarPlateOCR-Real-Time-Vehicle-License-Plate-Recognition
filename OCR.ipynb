{
 "cells": [
  {
   "cell_type": "code",
   "execution_count": 1,
   "id": "2c8f60ae-6520-4e19-a610-bbf662202caf",
   "metadata": {},
   "outputs": [
    {
     "name": "stdout",
     "output_type": "stream",
     "text": [
      "Collecting pytesseract\n",
      "  Downloading pytesseract-0.3.13-py3-none-any.whl.metadata (11 kB)\n",
      "Requirement already satisfied: packaging>=21.3 in c:\\users\\alaqsa\\appdata\\local\\programs\\python\\python312\\lib\\site-packages (from pytesseract) (24.1)\n",
      "Requirement already satisfied: Pillow>=8.0.0 in c:\\users\\alaqsa\\appdata\\local\\programs\\python\\python312\\lib\\site-packages (from pytesseract) (11.0.0)\n",
      "Downloading pytesseract-0.3.13-py3-none-any.whl (14 kB)\n",
      "Installing collected packages: pytesseract\n",
      "Successfully installed pytesseract-0.3.13\n"
     ]
    },
    {
     "name": "stderr",
     "output_type": "stream",
     "text": [
      "\n",
      "[notice] A new release of pip is available: 24.2 -> 24.3.1\n",
      "[notice] To update, run: python.exe -m pip install --upgrade pip\n"
     ]
    }
   ],
   "source": [
    "! pip install pytesseract "
   ]
  },
  {
   "cell_type": "code",
   "execution_count": 3,
   "id": "735be35d-2d43-44a9-8571-12379091e37a",
   "metadata": {},
   "outputs": [
    {
     "name": "stdout",
     "output_type": "stream",
     "text": [
      "Requirement already satisfied: pip in c:\\users\\alaqsa\\appdata\\local\\programs\\python\\python312\\lib\\site-packages (24.2)\n",
      "Collecting pip\n",
      "  Downloading pip-24.3.1-py3-none-any.whl.metadata (3.7 kB)\n",
      "Downloading pip-24.3.1-py3-none-any.whl (1.8 MB)\n",
      "   ---------------------------------------- 0.0/1.8 MB ? eta -:--:--\n",
      "   ---------------------------------------- 0.0/1.8 MB ? eta -:--:--\n",
      "   ----------- ---------------------------- 0.5/1.8 MB 1.5 MB/s eta 0:00:01\n",
      "   ----------------- ---------------------- 0.8/1.8 MB 1.5 MB/s eta 0:00:01\n",
      "   ----------------------- ---------------- 1.0/1.8 MB 1.5 MB/s eta 0:00:01\n",
      "   ---------------------------- ----------- 1.3/1.8 MB 1.5 MB/s eta 0:00:01\n",
      "   ---------------------------------- ----- 1.6/1.8 MB 1.5 MB/s eta 0:00:01\n",
      "   ---------------------------------- ----- 1.6/1.8 MB 1.5 MB/s eta 0:00:01\n",
      "   ---------------------------------- ----- 1.6/1.8 MB 1.5 MB/s eta 0:00:01\n",
      "   ---------------------------------- ----- 1.6/1.8 MB 1.5 MB/s eta 0:00:01\n",
      "   ---------------------------------- ----- 1.6/1.8 MB 1.5 MB/s eta 0:00:01\n",
      "   ---------------------------------------- 1.8/1.8 MB 762.1 kB/s eta 0:00:00\n",
      "Installing collected packages: pip\n",
      "  Attempting uninstall: pip\n",
      "    Found existing installation: pip 24.2\n",
      "    Uninstalling pip-24.2:\n",
      "      Successfully uninstalled pip-24.2\n",
      "Successfully installed pip-24.3.1\n"
     ]
    }
   ],
   "source": [
    "! python.exe -m pip install --upgrade pip"
   ]
  },
  {
   "cell_type": "code",
   "execution_count": null,
   "id": "6b642a72-f9d9-40c9-bb78-5f63ea90aede",
   "metadata": {},
   "outputs": [],
   "source": [
    "import cv2 \n",
    "import pytesseract \n",
    "import os \n",
    "os.chdir(r\"D:\\6 months\\5 Weeks\\AI\\Projects\\OCR Project\") # change the dir to the dir of the photos you want to detect \n",
    "\n",
    "pytesseract.pytesseract.tesseract_cmd = r\"D:\\6 months\\5 Weeks\\AI\\Projects\\OCR Project\\Tesseract  models\\tesseract.exe\"\n",
    "\n",
    "# Load the image \n",
    "img = cv2.imread(\n",
    "\n",
    "\n",
    "\n"
   ]
  },
  {
   "cell_type": "code",
   "execution_count": null,
   "id": "2ad30ac7-1884-4a32-b07a-f6616c5f1cda",
   "metadata": {},
   "outputs": [],
   "source": []
  }
 ],
 "metadata": {
  "kernelspec": {
   "display_name": "Python 3 (ipykernel)",
   "language": "python",
   "name": "python3"
  },
  "language_info": {
   "codemirror_mode": {
    "name": "ipython",
    "version": 3
   },
   "file_extension": ".py",
   "mimetype": "text/x-python",
   "name": "python",
   "nbconvert_exporter": "python",
   "pygments_lexer": "ipython3",
   "version": "3.12.6"
  }
 },
 "nbformat": 4,
 "nbformat_minor": 5
}
